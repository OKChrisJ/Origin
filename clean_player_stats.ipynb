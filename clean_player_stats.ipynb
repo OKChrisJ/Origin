{
 "cells": [
  {
   "cell_type": "markdown",
   "metadata": {},
   "source": [
    "Libraries"
   ]
  },
  {
   "cell_type": "code",
   "execution_count": 1,
   "metadata": {},
   "outputs": [],
   "source": [
    "import os\n",
    "from bs4 import BeautifulSoup\n",
    "from playwright.async_api import async_playwright, TimeoutError as PlaywrightTimeout\n",
    "import re\n",
    "import time\n",
    "from csv import writer, reader\n",
    "from decimal import *\n",
    "import pandas as pd\n",
    "from tqdm import tqdm, trange"
   ]
  },
  {
   "cell_type": "markdown",
   "metadata": {},
   "source": [
    "Global variables"
   ]
  },
  {
   "cell_type": "code",
   "execution_count": 2,
   "metadata": {},
   "outputs": [],
   "source": [
    "SEASONS = list(range(1996, 2023))\n",
    "months = ['november', 'december', 'january', 'february', 'march', 'april', 'may', 'june']"
   ]
  },
  {
   "cell_type": "code",
   "execution_count": 3,
   "metadata": {},
   "outputs": [],
   "source": [
    "DATA_DIR = \"testing_data_collection\"\n",
    "STANDINGS_DIR = os.path.join(DATA_DIR, \"games\")\n",
    "curr_dir = '/Users/chrisjeff/Desktop/Origin'\n",
    "#SCORES_DIR = os.path.join(DATA_DIR, \"scores\")"
   ]
  },
  {
   "cell_type": "markdown",
   "metadata": {},
   "source": [
    "Function that grabs specified html content from a url"
   ]
  },
  {
   "cell_type": "code",
   "execution_count": 4,
   "metadata": {},
   "outputs": [],
   "source": [
    "#get html function\n",
    "async def get_html(url, selector, sleep=5, retries=10, timeout=0):\n",
    "  html = None\n",
    "  for i in range(1, retries+1):\n",
    "    time.sleep(sleep * i)\n",
    "\n",
    "    try:\n",
    "      async with async_playwright() as p:\n",
    "        browser = await p.firefox.launch()\n",
    "        page = await browser.new_page()\n",
    "        await page.goto(url, timeout=30000) #if can't load page in 30s, timeout error gets thrown\n",
    "        print(url)\n",
    "        html = await page.inner_html(selector,timeout=60000) #grab all html with identifier named {selector} within 60s\n",
    "        print('got html')\n",
    "    except PlaywrightTimeout:\n",
    "      print(f\"Timeout on {url}\")\n",
    "      if i == retries: #timesout for 5th time\n",
    "        print('No games this month')\n",
    "      continue\n",
    "    else:\n",
    "      break\n",
    "  return html"
   ]
  },
  {
   "cell_type": "markdown",
   "metadata": {},
   "source": [
    "Grabs html page containing all player names, positions, etc."
   ]
  },
  {
   "cell_type": "code",
   "execution_count": null,
   "metadata": {},
   "outputs": [],
   "source": [
    "for season in SEASONS:\n",
    "  url = f'https://basketball.realgm.com/nba/players/{season}'\n",
    "  html = await get_html(url, 'table', timeout=60000)\n",
    "  print(f'collected data from season {season}')\n",
    "\n",
    "  soup = BeautifulSoup(html, 'html.parser')\n",
    "\n",
    "  name_html = soup.find_all('a')\n",
    "  pos_html = soup.find_all('td', attrs={'data-th': 'Pos'})\n",
    "\n",
    "  names = []\n",
    "  positions = []\n",
    "\n",
    "  for row in name_html:\n",
    "    names.append(row.text)\n",
    "  print(len(names))\n",
    "  print(names)\n",
    "\n",
    "  for row in pos_html:\n",
    "    positions.append(row.text)\n",
    "  print(len(positions))\n",
    "  print(positions)\n",
    "'''\n",
    "  with open(f'{curr_dir}/indv_player_data/season_{season}_players.csv', 'w') as f_object:\n",
    "    writer_object = writer(f_object)\n",
    "    assert len(names) == len(positions)\n",
    "    for i in range(len(names)):\n",
    "      writer_object.writerow(names[i])\n",
    "      writer_object.writerow(positions[i])\n",
    "    f_object.close()\n",
    "'''"
   ]
  },
  {
   "attachments": {},
   "cell_type": "markdown",
   "metadata": {},
   "source": [
    "Gets links for stats to every game between a range of months, between a range of years"
   ]
  },
  {
   "cell_type": "code",
   "execution_count": 9,
   "metadata": {},
   "outputs": [
    {
     "name": "stdout",
     "output_type": "stream",
     "text": [
      "https://www.basketball-reference.com/leagues/NBA_1981_games-june.html\n",
      "Timeout on https://www.basketball-reference.com/leagues/NBA_1981_games-june.html\n",
      "https://www.basketball-reference.com/leagues/NBA_1981_games-june.html\n",
      "Timeout on https://www.basketball-reference.com/leagues/NBA_1981_games-june.html\n",
      "https://www.basketball-reference.com/leagues/NBA_1981_games-june.html\n",
      "Timeout on https://www.basketball-reference.com/leagues/NBA_1981_games-june.html\n",
      "https://www.basketball-reference.com/leagues/NBA_1981_games-june.html\n",
      "Timeout on https://www.basketball-reference.com/leagues/NBA_1981_games-june.html\n",
      "https://www.basketball-reference.com/leagues/NBA_1981_games-june.html\n",
      "Timeout on https://www.basketball-reference.com/leagues/NBA_1981_games-june.html\n",
      "https://www.basketball-reference.com/leagues/NBA_1981_games-june.html\n",
      "Timeout on https://www.basketball-reference.com/leagues/NBA_1981_games-june.html\n",
      "https://www.basketball-reference.com/leagues/NBA_1981_games-june.html\n",
      "Timeout on https://www.basketball-reference.com/leagues/NBA_1981_games-june.html\n",
      "https://www.basketball-reference.com/leagues/NBA_1981_games-june.html\n",
      "Timeout on https://www.basketball-reference.com/leagues/NBA_1981_games-june.html\n",
      "https://www.basketball-reference.com/leagues/NBA_1981_games-june.html\n",
      "Timeout on https://www.basketball-reference.com/leagues/NBA_1981_games-june.html\n",
      "https://www.basketball-reference.com/leagues/NBA_1981_games-june.html\n",
      "Timeout on https://www.basketball-reference.com/leagues/NBA_1981_games-june.html\n",
      "No games this month\n",
      "https://www.basketball-reference.com/leagues/NBA_1983_games-june.html\n",
      "Timeout on https://www.basketball-reference.com/leagues/NBA_1983_games-june.html\n",
      "https://www.basketball-reference.com/leagues/NBA_1983_games-june.html\n",
      "Timeout on https://www.basketball-reference.com/leagues/NBA_1983_games-june.html\n",
      "https://www.basketball-reference.com/leagues/NBA_1983_games-june.html\n",
      "Timeout on https://www.basketball-reference.com/leagues/NBA_1983_games-june.html\n",
      "https://www.basketball-reference.com/leagues/NBA_1983_games-june.html\n",
      "Timeout on https://www.basketball-reference.com/leagues/NBA_1983_games-june.html\n",
      "https://www.basketball-reference.com/leagues/NBA_1983_games-june.html\n",
      "Timeout on https://www.basketball-reference.com/leagues/NBA_1983_games-june.html\n",
      "https://www.basketball-reference.com/leagues/NBA_1983_games-june.html\n",
      "Timeout on https://www.basketball-reference.com/leagues/NBA_1983_games-june.html\n",
      "https://www.basketball-reference.com/leagues/NBA_1983_games-june.html\n",
      "Timeout on https://www.basketball-reference.com/leagues/NBA_1983_games-june.html\n",
      "https://www.basketball-reference.com/leagues/NBA_1983_games-june.html\n",
      "Timeout on https://www.basketball-reference.com/leagues/NBA_1983_games-june.html\n",
      "https://www.basketball-reference.com/leagues/NBA_1983_games-june.html\n",
      "Timeout on https://www.basketball-reference.com/leagues/NBA_1983_games-june.html\n",
      "https://www.basketball-reference.com/leagues/NBA_1983_games-june.html\n",
      "Timeout on https://www.basketball-reference.com/leagues/NBA_1983_games-june.html\n",
      "No games this month\n",
      "https://www.basketball-reference.com/leagues/NBA_1999_games-november.html\n",
      "Timeout on https://www.basketball-reference.com/leagues/NBA_1999_games-november.html\n",
      "https://www.basketball-reference.com/leagues/NBA_1999_games-november.html\n",
      "Timeout on https://www.basketball-reference.com/leagues/NBA_1999_games-november.html\n",
      "https://www.basketball-reference.com/leagues/NBA_1999_games-november.html\n",
      "Timeout on https://www.basketball-reference.com/leagues/NBA_1999_games-november.html\n",
      "https://www.basketball-reference.com/leagues/NBA_1999_games-november.html\n",
      "Timeout on https://www.basketball-reference.com/leagues/NBA_1999_games-november.html\n",
      "https://www.basketball-reference.com/leagues/NBA_1999_games-november.html\n",
      "Timeout on https://www.basketball-reference.com/leagues/NBA_1999_games-november.html\n",
      "https://www.basketball-reference.com/leagues/NBA_1999_games-november.html\n",
      "Timeout on https://www.basketball-reference.com/leagues/NBA_1999_games-november.html\n",
      "https://www.basketball-reference.com/leagues/NBA_1999_games-november.html\n",
      "Timeout on https://www.basketball-reference.com/leagues/NBA_1999_games-november.html\n",
      "https://www.basketball-reference.com/leagues/NBA_1999_games-november.html\n",
      "Timeout on https://www.basketball-reference.com/leagues/NBA_1999_games-november.html\n",
      "https://www.basketball-reference.com/leagues/NBA_1999_games-november.html\n",
      "Timeout on https://www.basketball-reference.com/leagues/NBA_1999_games-november.html\n",
      "https://www.basketball-reference.com/leagues/NBA_1999_games-november.html\n",
      "Timeout on https://www.basketball-reference.com/leagues/NBA_1999_games-november.html\n",
      "No games this month\n",
      "https://www.basketball-reference.com/leagues/NBA_1999_games-december.html\n",
      "Timeout on https://www.basketball-reference.com/leagues/NBA_1999_games-december.html\n",
      "https://www.basketball-reference.com/leagues/NBA_1999_games-december.html\n",
      "Timeout on https://www.basketball-reference.com/leagues/NBA_1999_games-december.html\n",
      "https://www.basketball-reference.com/leagues/NBA_1999_games-december.html\n",
      "Timeout on https://www.basketball-reference.com/leagues/NBA_1999_games-december.html\n",
      "https://www.basketball-reference.com/leagues/NBA_1999_games-december.html\n",
      "Timeout on https://www.basketball-reference.com/leagues/NBA_1999_games-december.html\n",
      "https://www.basketball-reference.com/leagues/NBA_1999_games-december.html\n",
      "Timeout on https://www.basketball-reference.com/leagues/NBA_1999_games-december.html\n",
      "https://www.basketball-reference.com/leagues/NBA_1999_games-december.html\n",
      "Timeout on https://www.basketball-reference.com/leagues/NBA_1999_games-december.html\n",
      "https://www.basketball-reference.com/leagues/NBA_1999_games-december.html\n",
      "Timeout on https://www.basketball-reference.com/leagues/NBA_1999_games-december.html\n",
      "https://www.basketball-reference.com/leagues/NBA_1999_games-december.html\n",
      "Timeout on https://www.basketball-reference.com/leagues/NBA_1999_games-december.html\n",
      "https://www.basketball-reference.com/leagues/NBA_1999_games-december.html\n",
      "Timeout on https://www.basketball-reference.com/leagues/NBA_1999_games-december.html\n",
      "https://www.basketball-reference.com/leagues/NBA_1999_games-december.html\n",
      "Timeout on https://www.basketball-reference.com/leagues/NBA_1999_games-december.html\n",
      "No games this month\n",
      "https://www.basketball-reference.com/leagues/NBA_1999_games-january.html\n",
      "Timeout on https://www.basketball-reference.com/leagues/NBA_1999_games-january.html\n",
      "https://www.basketball-reference.com/leagues/NBA_1999_games-january.html\n",
      "Timeout on https://www.basketball-reference.com/leagues/NBA_1999_games-january.html\n",
      "https://www.basketball-reference.com/leagues/NBA_1999_games-january.html\n",
      "Timeout on https://www.basketball-reference.com/leagues/NBA_1999_games-january.html\n",
      "https://www.basketball-reference.com/leagues/NBA_1999_games-january.html\n",
      "Timeout on https://www.basketball-reference.com/leagues/NBA_1999_games-january.html\n",
      "https://www.basketball-reference.com/leagues/NBA_1999_games-january.html\n",
      "Timeout on https://www.basketball-reference.com/leagues/NBA_1999_games-january.html\n",
      "https://www.basketball-reference.com/leagues/NBA_1999_games-january.html\n",
      "Timeout on https://www.basketball-reference.com/leagues/NBA_1999_games-january.html\n",
      "https://www.basketball-reference.com/leagues/NBA_1999_games-january.html\n",
      "Timeout on https://www.basketball-reference.com/leagues/NBA_1999_games-january.html\n",
      "https://www.basketball-reference.com/leagues/NBA_1999_games-january.html\n",
      "Timeout on https://www.basketball-reference.com/leagues/NBA_1999_games-january.html\n",
      "https://www.basketball-reference.com/leagues/NBA_1999_games-january.html\n",
      "Timeout on https://www.basketball-reference.com/leagues/NBA_1999_games-january.html\n",
      "https://www.basketball-reference.com/leagues/NBA_1999_games-january.html\n",
      "Timeout on https://www.basketball-reference.com/leagues/NBA_1999_games-january.html\n",
      "No games this month\n",
      "https://www.basketball-reference.com/leagues/NBA_2012_games-november.html\n",
      "Timeout on https://www.basketball-reference.com/leagues/NBA_2012_games-november.html\n",
      "https://www.basketball-reference.com/leagues/NBA_2012_games-november.html\n",
      "Timeout on https://www.basketball-reference.com/leagues/NBA_2012_games-november.html\n",
      "https://www.basketball-reference.com/leagues/NBA_2012_games-november.html\n",
      "Timeout on https://www.basketball-reference.com/leagues/NBA_2012_games-november.html\n",
      "https://www.basketball-reference.com/leagues/NBA_2012_games-november.html\n",
      "Timeout on https://www.basketball-reference.com/leagues/NBA_2012_games-november.html\n",
      "https://www.basketball-reference.com/leagues/NBA_2012_games-november.html\n",
      "Timeout on https://www.basketball-reference.com/leagues/NBA_2012_games-november.html\n",
      "https://www.basketball-reference.com/leagues/NBA_2012_games-november.html\n",
      "Timeout on https://www.basketball-reference.com/leagues/NBA_2012_games-november.html\n",
      "https://www.basketball-reference.com/leagues/NBA_2012_games-november.html\n",
      "Timeout on https://www.basketball-reference.com/leagues/NBA_2012_games-november.html\n",
      "https://www.basketball-reference.com/leagues/NBA_2012_games-november.html\n",
      "Timeout on https://www.basketball-reference.com/leagues/NBA_2012_games-november.html\n",
      "https://www.basketball-reference.com/leagues/NBA_2012_games-november.html\n",
      "Timeout on https://www.basketball-reference.com/leagues/NBA_2012_games-november.html\n",
      "https://www.basketball-reference.com/leagues/NBA_2012_games-november.html\n",
      "Timeout on https://www.basketball-reference.com/leagues/NBA_2012_games-november.html\n",
      "No games this month\n",
      "https://www.basketball-reference.com/leagues/NBA_2020_games-may.html\n",
      "Timeout on https://www.basketball-reference.com/leagues/NBA_2020_games-may.html\n",
      "https://www.basketball-reference.com/leagues/NBA_2020_games-may.html\n",
      "Timeout on https://www.basketball-reference.com/leagues/NBA_2020_games-may.html\n",
      "https://www.basketball-reference.com/leagues/NBA_2020_games-may.html\n",
      "Timeout on https://www.basketball-reference.com/leagues/NBA_2020_games-may.html\n",
      "https://www.basketball-reference.com/leagues/NBA_2020_games-may.html\n",
      "Timeout on https://www.basketball-reference.com/leagues/NBA_2020_games-may.html\n",
      "https://www.basketball-reference.com/leagues/NBA_2020_games-may.html\n",
      "Timeout on https://www.basketball-reference.com/leagues/NBA_2020_games-may.html\n",
      "https://www.basketball-reference.com/leagues/NBA_2020_games-may.html\n",
      "Timeout on https://www.basketball-reference.com/leagues/NBA_2020_games-may.html\n",
      "https://www.basketball-reference.com/leagues/NBA_2020_games-may.html\n",
      "Timeout on https://www.basketball-reference.com/leagues/NBA_2020_games-may.html\n",
      "https://www.basketball-reference.com/leagues/NBA_2020_games-may.html\n",
      "Timeout on https://www.basketball-reference.com/leagues/NBA_2020_games-may.html\n",
      "https://www.basketball-reference.com/leagues/NBA_2020_games-may.html\n",
      "Timeout on https://www.basketball-reference.com/leagues/NBA_2020_games-may.html\n",
      "https://www.basketball-reference.com/leagues/NBA_2020_games-may.html\n",
      "Timeout on https://www.basketball-reference.com/leagues/NBA_2020_games-may.html\n",
      "No games this month\n",
      "https://www.basketball-reference.com/leagues/NBA_2020_games-june.html\n",
      "Timeout on https://www.basketball-reference.com/leagues/NBA_2020_games-june.html\n",
      "https://www.basketball-reference.com/leagues/NBA_2020_games-june.html\n",
      "Timeout on https://www.basketball-reference.com/leagues/NBA_2020_games-june.html\n",
      "https://www.basketball-reference.com/leagues/NBA_2020_games-june.html\n",
      "Timeout on https://www.basketball-reference.com/leagues/NBA_2020_games-june.html\n",
      "https://www.basketball-reference.com/leagues/NBA_2020_games-june.html\n",
      "Timeout on https://www.basketball-reference.com/leagues/NBA_2020_games-june.html\n",
      "https://www.basketball-reference.com/leagues/NBA_2020_games-june.html\n",
      "Timeout on https://www.basketball-reference.com/leagues/NBA_2020_games-june.html\n",
      "https://www.basketball-reference.com/leagues/NBA_2020_games-june.html\n",
      "Timeout on https://www.basketball-reference.com/leagues/NBA_2020_games-june.html\n",
      "https://www.basketball-reference.com/leagues/NBA_2020_games-june.html\n",
      "Timeout on https://www.basketball-reference.com/leagues/NBA_2020_games-june.html\n",
      "https://www.basketball-reference.com/leagues/NBA_2020_games-june.html\n",
      "Timeout on https://www.basketball-reference.com/leagues/NBA_2020_games-june.html\n",
      "https://www.basketball-reference.com/leagues/NBA_2020_games-june.html\n",
      "Timeout on https://www.basketball-reference.com/leagues/NBA_2020_games-june.html\n",
      "https://www.basketball-reference.com/leagues/NBA_2020_games-june.html\n",
      "Timeout on https://www.basketball-reference.com/leagues/NBA_2020_games-june.html\n",
      "No games this month\n",
      "https://www.basketball-reference.com/leagues/NBA_2021_games-november.html\n",
      "Timeout on https://www.basketball-reference.com/leagues/NBA_2021_games-november.html\n",
      "https://www.basketball-reference.com/leagues/NBA_2021_games-november.html\n",
      "Timeout on https://www.basketball-reference.com/leagues/NBA_2021_games-november.html\n",
      "https://www.basketball-reference.com/leagues/NBA_2021_games-november.html\n",
      "Timeout on https://www.basketball-reference.com/leagues/NBA_2021_games-november.html\n",
      "https://www.basketball-reference.com/leagues/NBA_2021_games-november.html\n",
      "Timeout on https://www.basketball-reference.com/leagues/NBA_2021_games-november.html\n",
      "https://www.basketball-reference.com/leagues/NBA_2021_games-november.html\n",
      "Timeout on https://www.basketball-reference.com/leagues/NBA_2021_games-november.html\n",
      "https://www.basketball-reference.com/leagues/NBA_2021_games-november.html\n",
      "Timeout on https://www.basketball-reference.com/leagues/NBA_2021_games-november.html\n",
      "https://www.basketball-reference.com/leagues/NBA_2021_games-november.html\n",
      "Timeout on https://www.basketball-reference.com/leagues/NBA_2021_games-november.html\n",
      "https://www.basketball-reference.com/leagues/NBA_2021_games-november.html\n",
      "Timeout on https://www.basketball-reference.com/leagues/NBA_2021_games-november.html\n",
      "https://www.basketball-reference.com/leagues/NBA_2021_games-november.html\n",
      "Timeout on https://www.basketball-reference.com/leagues/NBA_2021_games-november.html\n",
      "https://www.basketball-reference.com/leagues/NBA_2021_games-november.html\n",
      "Timeout on https://www.basketball-reference.com/leagues/NBA_2021_games-november.html\n",
      "No games this month\n"
     ]
    }
   ],
   "source": [
    "for season in SEASONS:\n",
    "    for month in months:\n",
    "        file_of_links = f'games_from_{month}-{season}.csv'\n",
    "        if file_of_links in os.listdir(f'{curr_dir}/Collecting_Data/Links_to_games'):\n",
    "            continue\n",
    "        url = f'https://www.basketball-reference.com/leagues/NBA_{season}_games-{month}.html'\n",
    "        html = await get_html(url, '#schedule') #goes to url and returns all html\n",
    "        if not html: #if html=none then a timeout occured, multiple times\n",
    "            continue\n",
    "\n",
    "        soup = BeautifulSoup(html, 'html.parser')\n",
    "        row = soup.find_all('a')\n",
    "        links = [_['href'] for _ in row] #grabs all links on a page\n",
    "        all_links = [f\"https://basketball-reference.com{game}\" for game in links]\n",
    "\n",
    "        indiv_game_boxscores = [] \n",
    "        for url in all_links:\n",
    "            if 'boxscores' in url and url[-5::] == '.html':\n",
    "                indiv_game_boxscores.append(url)\n",
    "        print(indiv_game_boxscores) #list of all links to indiv games\n",
    "        with open(f'{curr_dir}/Collecting_Data/Links_to_games/{file_of_links}', 'w') as f_object:\n",
    "            writer_object = writer(f_object)\n",
    "            writer_object.writerow(indiv_game_boxscores)\n",
    "            f_object.close()\n"
   ]
  },
  {
   "cell_type": "markdown",
   "metadata": {},
   "source": [
    "Grabs the tables from a given web page"
   ]
  },
  {
   "cell_type": "code",
   "execution_count": 5,
   "metadata": {},
   "outputs": [],
   "source": [
    "async def get_game_html_data(url):\n",
    "    html = await get_html(url, '#content') #grabs div with id named content \n",
    "    soup = BeautifulSoup(html, 'html.parser')\n",
    "    tables = soup.find_all('table', class_='sortable stats_table') #tables is a list of html <table>\n",
    "    return tables\n",
    "    "
   ]
  },
  {
   "cell_type": "markdown",
   "metadata": {},
   "source": [
    "Collect HTML for indv games"
   ]
  },
  {
   "cell_type": "code",
   "execution_count": 16,
   "metadata": {},
   "outputs": [
    {
     "name": "stderr",
     "output_type": "stream",
     "text": [
      "Through Files: 0it [00:00, ?it/s]"
     ]
    },
    {
     "name": "stdout",
     "output_type": "stream",
     "text": [
      "games_from_march-2004.csv\n"
     ]
    },
    {
     "name": "stderr",
     "output_type": "stream",
     "text": []
    },
    {
     "name": "stderr",
     "output_type": "stream",
     "text": []
    },
    {
     "name": "stdout",
     "output_type": "stream",
     "text": [
      "https://basketball-reference.com/boxscores/200403200CHI.html\n",
      "got html\n"
     ]
    },
    {
     "name": "stderr",
     "output_type": "stream",
     "text": [
      "Links in file finished: 100%|██████████| 224/224 [00:37<00:00,  6.02it/s]\n",
      "Through Files: 1it [00:37, 37.21s/it]"
     ]
    },
    {
     "name": "stdout",
     "output_type": "stream",
     "text": [
      "games_from_march-2010.csv\n"
     ]
    },
    {
     "name": "stderr",
     "output_type": "stream",
     "text": [
      "Links in file finished: 100%|██████████| 235/235 [00:11<00:00, 19.84it/s]\n",
      "Through Files: 2it [00:49, 22.30s/it]"
     ]
    },
    {
     "name": "stdout",
     "output_type": "stream",
     "text": [
      "games_from_may-2007.csv\n"
     ]
    },
    {
     "name": "stderr",
     "output_type": "stream",
     "text": [
      "Links in file finished: 100%|██████████| 41/41 [00:02<00:00, 18.77it/s]\n",
      "Through Files: 3it [00:51, 13.12s/it]"
     ]
    },
    {
     "name": "stdout",
     "output_type": "stream",
     "text": [
      "games_from_may-2013.csv\n"
     ]
    },
    {
     "name": "stderr",
     "output_type": "stream",
     "text": [
      "Links in file finished: 100%|██████████| 41/41 [00:02<00:00, 17.92it/s]\n",
      "Through Files: 4it [00:53,  8.86s/it]"
     ]
    },
    {
     "name": "stdout",
     "output_type": "stream",
     "text": [
      "games_from_november-2022.csv\n"
     ]
    },
    {
     "name": "stderr",
     "output_type": "stream",
     "text": [
      "Links in file finished: 100%|██████████| 225/225 [00:17<00:00, 12.94it/s]\n",
      "Through Files: 5it [01:11, 11.96s/it]"
     ]
    },
    {
     "name": "stdout",
     "output_type": "stream",
     "text": [
      "games_from_april-2007.csv\n"
     ]
    },
    {
     "name": "stderr",
     "output_type": "stream",
     "text": [
      "Links in file finished: 100%|██████████| 177/177 [00:15<00:00, 11.69it/s]\n",
      "Through Files: 6it [01:26, 13.05s/it]"
     ]
    },
    {
     "name": "stdout",
     "output_type": "stream",
     "text": [
      "games_from_april-2013.csv\n"
     ]
    },
    {
     "name": "stderr",
     "output_type": "stream",
     "text": [
      "Links in file finished: 100%|██████████| 165/165 [00:12<00:00, 12.85it/s]\n",
      "Through Files: 7it [01:39, 12.99s/it]"
     ]
    },
    {
     "name": "stdout",
     "output_type": "stream",
     "text": [
      "games_from_june-1999.csv\n"
     ]
    },
    {
     "name": "stderr",
     "output_type": "stream",
     "text": [
      "Links in file finished: 100%|██████████| 12/12 [00:00<00:00, 16.76it/s]\n",
      "Through Files: 8it [01:39,  9.09s/it]"
     ]
    },
    {
     "name": "stdout",
     "output_type": "stream",
     "text": [
      "games_from_june-1998.csv\n"
     ]
    },
    {
     "name": "stderr",
     "output_type": "stream",
     "text": [
      "Links in file finished: 100%|██████████| 6/6 [00:00<00:00, 16.40it/s]\n",
      "Through Files: 9it [01:40,  6.37s/it]"
     ]
    },
    {
     "name": "stdout",
     "output_type": "stream",
     "text": [
      "games_from_april-2012.csv\n"
     ]
    },
    {
     "name": "stderr",
     "output_type": "stream",
     "text": [
      "Links in file finished: 100%|██████████| 225/225 [00:14<00:00, 15.08it/s]\n",
      "Through Files: 10it [01:55,  9.02s/it]"
     ]
    },
    {
     "name": "stdout",
     "output_type": "stream",
     "text": [
      "games_from_april-2006.csv\n"
     ]
    },
    {
     "name": "stderr",
     "output_type": "stream",
     "text": []
    }
   ],
   "source": [
    "#Should be over 32881 game_html files\n",
    "get_data = f'{curr_dir}/Collecting_Data' #directory of where collected data is put\n",
    "html_game_dir = f'{get_data}/game_html' #directory of where html of games are put\n",
    "for file_number, file_name in tqdm(enumerate(os.listdir(f'{get_data}/Links_to_games')), desc='Through Files'):\n",
    "  print(file_name)\n",
    "  all_links = []\n",
    "  with open(f'{get_data}/Links_to_games/{file_name}', 'r') as file_object:\n",
    "    csv_file = reader(file_object)\n",
    "\n",
    "    all_links = list(csv_file)[0] #all_links is a list of links to games for a given month\n",
    "\n",
    "  for single_link in tqdm(all_links, desc='Links in file finished'):\n",
    "    new_file = single_link[-17::] #sets name of new_file to year/month/day/team of a game\n",
    "    if new_file in os.listdir(f'{html_game_dir}'):\n",
    "      continue\n",
    "    with open(f'{html_game_dir}/{new_file}', 'w') as f_object:\n",
    "      html = await get_game_html_data(single_link)\n",
    "      #if not html: #if timeout occurs, file gets deleted\n",
    "        #os.remove(f'{html_game_dir}{new_file}')\n",
    "        #continue\n",
    "      f_object.write(str(html))\n",
    "      f_object.close()"
   ]
  },
  {
   "cell_type": "markdown",
   "metadata": {},
   "source": [
    "Functions that will convert str data type into correct, useful data types"
   ]
  },
  {
   "cell_type": "code",
   "execution_count": 6,
   "metadata": {},
   "outputs": [],
   "source": [
    "def is_home_team(num):\n",
    "    return int(num)\n",
    "\n",
    "def get_term(num):\n",
    "    return terms[int(num)]\n",
    "\n",
    "def min_to_sec(time):        #converts time to an integer\n",
    "    if time == 'Did Not Play' or time == 'Did Not Dress' or time is None or time == '\\xa0':\n",
    "        return 0\n",
    "    \n",
    "    time_list = time.split(':')\n",
    "    return int(time_list[0]) * 60 + int(time_list[1])\n",
    "\n",
    "def int_conv(num):           #converts number to int\n",
    "    if num == '':\n",
    "        return None\n",
    "    \n",
    "    return int(num)\n",
    "\n",
    "def float_conv(num):       #converts number to float to nearest 1000th place, rounding down\n",
    "    if num == '':\n",
    "        return None\n",
    "    \n",
    "    return float(Decimal(str(num)).quantize(Decimal('.001'), rounding=ROUND_DOWN))\n",
    "\n",
    "def plus_minus_conv(val):\n",
    "    if val == '':\n",
    "        return None\n",
    "    if val == '0':\n",
    "        return 0\n",
    "    \n",
    "    value_symbol = val[0]\n",
    "    num = int(val[1:])\n",
    "    if value_symbol == '-':\n",
    "        return -num\n",
    "    else:\n",
    "        return num\n",
    "\n",
    "\n",
    "converters = [is_home_team, get_term, str, min_to_sec, int_conv, int_conv, float_conv, int_conv, int_conv, float_conv,\n",
    "              int_conv, int_conv, float_conv, int_conv, int_conv, int_conv, int_conv, int_conv,\n",
    "              int_conv, int_conv, int_conv, int_conv, plus_minus_conv]\n",
    "\n",
    "\n",
    "directory = 'Collecting_Data/game_html'\n",
    "terms = ['Q1', 'Q2', 'H1', 'Q3', 'Q4', 'H2']\n",
    "headers = ['Home Team', 'Term', 'Name', 'Time Played (sec)', 'FG', 'FGA', 'FG%', '3P', '3PA', '3P%', 'FT', 'FTA', 'FT%',\n",
    "           'ORB', 'DRB', 'TRB', 'AST', 'STL', 'BLK', 'TOV', 'PF', 'PTS', '+/-']"
   ]
  },
  {
   "attachments": {},
   "cell_type": "markdown",
   "metadata": {},
   "source": [
    "Writes stats for every player in every game, separated by quarter, to a .csv format with correct data types"
   ]
  },
  {
   "cell_type": "code",
   "execution_count": 13,
   "metadata": {},
   "outputs": [
    {
     "name": "stdout",
     "output_type": "stream",
     "text": [
      "201604180GSW.html\n"
     ]
    },
    {
     "name": "stderr",
     "output_type": "stream",
     "text": [
      "Teams finished: 100%|██████████| 2/2 [00:00<00:00,  4.11it/s]\n",
      "files cleaned:   3%|▎         | 1021/32882 [11:48<7:57:58,  1.11it/s]"
     ]
    },
    {
     "name": "stdout",
     "output_type": "stream",
     "text": [
      "201012030TOR.html\n"
     ]
    },
    {
     "name": "stderr",
     "output_type": "stream",
     "text": [
      "Teams finished: 100%|██████████| 2/2 [00:00<00:00, 10.16it/s]\n",
      "files cleaned:   3%|▎         | 1022/32882 [11:49<8:13:58,  1.07it/s]"
     ]
    },
    {
     "name": "stdout",
     "output_type": "stream",
     "text": [
      "201301280BRK.html\n"
     ]
    },
    {
     "name": "stderr",
     "output_type": "stream",
     "text": [
      "Teams finished: 100%|██████████| 2/2 [00:00<00:00,  8.08it/s]\n",
      "files cleaned:   3%|▎         | 1023/32882 [11:49<7:34:21,  1.17it/s]"
     ]
    },
    {
     "name": "stdout",
     "output_type": "stream",
     "text": [
      "201803040ATL.html\n"
     ]
    },
    {
     "name": "stderr",
     "output_type": "stream",
     "text": [
      "Teams finished: 100%|██████████| 2/2 [00:00<00:00,  8.18it/s]\n",
      "files cleaned:   3%|▎         | 1024/32882 [11:50<6:52:57,  1.29it/s]"
     ]
    },
    {
     "name": "stdout",
     "output_type": "stream",
     "text": [
      "202001240NYK.html\n"
     ]
    },
    {
     "name": "stderr",
     "output_type": "stream",
     "text": [
      "Teams finished: 100%|██████████| 2/2 [00:00<00:00,  8.00it/s]\n",
      "files cleaned:   3%|▎         | 1025/32882 [11:51<6:50:39,  1.29it/s]"
     ]
    },
    {
     "name": "stdout",
     "output_type": "stream",
     "text": [
      "201903130MIA.html\n"
     ]
    },
    {
     "name": "stderr",
     "output_type": "stream",
     "text": [
      "Teams finished: 100%|██████████| 2/2 [00:00<00:00,  6.98it/s]\n",
      "files cleaned:   3%|▎         | 1026/32882 [11:51<6:37:23,  1.34it/s]"
     ]
    },
    {
     "name": "stdout",
     "output_type": "stream",
     "text": [
      "200002210POR.html\n"
     ]
    },
    {
     "name": "stderr",
     "output_type": "stream",
     "text": [
      "Teams finished: 100%|██████████| 2/2 [00:00<00:00, 11.18it/s]\n",
      "files cleaned:   3%|▎         | 1027/32882 [11:52<5:56:57,  1.49it/s]"
     ]
    },
    {
     "name": "stdout",
     "output_type": "stream",
     "text": [
      "201612140HOU.html\n"
     ]
    },
    {
     "name": "stderr",
     "output_type": "stream",
     "text": [
      "Teams finished: 100%|██████████| 2/2 [00:00<00:00,  8.46it/s]\n",
      "files cleaned:   3%|▎         | 1028/32882 [11:53<6:06:45,  1.45it/s]"
     ]
    },
    {
     "name": "stdout",
     "output_type": "stream",
     "text": [
      "201611270PHO.html\n"
     ]
    },
    {
     "name": "stderr",
     "output_type": "stream",
     "text": [
      "Teams finished: 100%|██████████| 2/2 [00:00<00:00,  4.20it/s]\n",
      "files cleaned:   3%|▎         | 1029/32882 [11:54<6:31:05,  1.36it/s]"
     ]
    },
    {
     "name": "stdout",
     "output_type": "stream",
     "text": [
      "199802030GSW.html\n"
     ]
    },
    {
     "name": "stderr",
     "output_type": "stream",
     "text": [
      "Teams finished: 100%|██████████| 2/2 [00:00<00:00,  9.31it/s]\n",
      "files cleaned:   3%|▎         | 1030/32882 [11:54<6:04:58,  1.45it/s]"
     ]
    },
    {
     "name": "stdout",
     "output_type": "stream",
     "text": [
      "201911260DEN.html\n"
     ]
    },
    {
     "name": "stderr",
     "output_type": "stream",
     "text": [
      "Teams finished: 100%|██████████| 2/2 [00:00<00:00, 11.67it/s]\n",
      "files cleaned:   3%|▎         | 1031/32882 [11:55<6:00:40,  1.47it/s]"
     ]
    },
    {
     "name": "stdout",
     "output_type": "stream",
     "text": [
      "199612300VAN.html\n"
     ]
    },
    {
     "name": "stderr",
     "output_type": "stream",
     "text": [
      "Teams finished: 100%|██████████| 2/2 [00:00<00:00, 12.02it/s]\n",
      "files cleaned:   3%|▎         | 1032/32882 [11:55<5:24:47,  1.63it/s]"
     ]
    },
    {
     "name": "stdout",
     "output_type": "stream",
     "text": [
      "200704040DET.html\n"
     ]
    },
    {
     "name": "stderr",
     "output_type": "stream",
     "text": [
      "Teams finished: 100%|██████████| 2/2 [00:00<00:00, 11.32it/s]\n",
      "files cleaned:   3%|▎         | 1033/32882 [11:56<5:14:44,  1.69it/s]"
     ]
    },
    {
     "name": "stdout",
     "output_type": "stream",
     "text": [
      "201203100MIN.html\n"
     ]
    },
    {
     "name": "stderr",
     "output_type": "stream",
     "text": [
      "Teams finished: 100%|██████████| 2/2 [00:00<00:00,  9.76it/s]\n",
      "files cleaned:   3%|▎         | 1034/32882 [11:56<5:12:00,  1.70it/s]"
     ]
    },
    {
     "name": "stdout",
     "output_type": "stream",
     "text": [
      "200002170MIL.html\n"
     ]
    },
    {
     "name": "stderr",
     "output_type": "stream",
     "text": [
      "Teams finished: 100%|██████████| 2/2 [00:00<00:00, 10.51it/s]\n",
      "files cleaned:   3%|▎         | 1035/32882 [11:57<5:23:57,  1.64it/s]"
     ]
    },
    {
     "name": "stdout",
     "output_type": "stream",
     "text": [
      "200912140LAC.html\n"
     ]
    },
    {
     "name": "stderr",
     "output_type": "stream",
     "text": [
      "Teams finished: 100%|██████████| 2/2 [00:00<00:00, 10.62it/s]\n",
      "files cleaned:   3%|▎         | 1036/32882 [11:58<5:03:50,  1.75it/s]"
     ]
    },
    {
     "name": "stdout",
     "output_type": "stream",
     "text": [
      "201201010DEN.html\n"
     ]
    },
    {
     "name": "stderr",
     "output_type": "stream",
     "text": [
      "Teams finished: 100%|██████████| 2/2 [00:00<00:00,  4.82it/s]\n",
      "files cleaned:   3%|▎         | 1037/32882 [11:58<6:00:00,  1.47it/s]"
     ]
    },
    {
     "name": "stdout",
     "output_type": "stream",
     "text": [
      "200111150HOU.html\n"
     ]
    },
    {
     "name": "stderr",
     "output_type": "stream",
     "text": [
      "Teams finished: 100%|██████████| 2/2 [00:00<00:00, 12.00it/s]\n",
      "files cleaned:   3%|▎         | 1038/32882 [11:59<5:58:32,  1.48it/s]"
     ]
    },
    {
     "name": "stdout",
     "output_type": "stream",
     "text": [
      "199801290VAN.html\n"
     ]
    },
    {
     "name": "stderr",
     "output_type": "stream",
     "text": [
      "Teams finished: 100%|██████████| 2/2 [00:00<00:00, 10.50it/s]\n",
      "files cleaned:   3%|▎         | 1039/32882 [12:00<5:29:28,  1.61it/s]"
     ]
    },
    {
     "name": "stdout",
     "output_type": "stream",
     "text": [
      "200212080SAS.html\n"
     ]
    },
    {
     "name": "stderr",
     "output_type": "stream",
     "text": [
      "Teams finished: 100%|██████████| 2/2 [00:00<00:00, 11.89it/s]\n",
      "files cleaned:   3%|▎         | 1040/32882 [12:00<5:04:37,  1.74it/s]"
     ]
    },
    {
     "name": "stdout",
     "output_type": "stream",
     "text": [
      "200203090DEN.html\n"
     ]
    },
    {
     "name": "stderr",
     "output_type": "stream",
     "text": [
      "Teams finished: 100%|██████████| 2/2 [00:00<00:00, 12.46it/s]\n",
      "files cleaned:   3%|▎         | 1041/32882 [12:01<5:20:36,  1.66it/s]"
     ]
    },
    {
     "name": "stdout",
     "output_type": "stream",
     "text": [
      "199706060UTA.html\n"
     ]
    },
    {
     "name": "stderr",
     "output_type": "stream",
     "text": [
      "Teams finished: 100%|██████████| 2/2 [00:00<00:00,  9.36it/s]\n",
      "files cleaned:   3%|▎         | 1042/32882 [12:01<5:16:56,  1.67it/s]"
     ]
    },
    {
     "name": "stdout",
     "output_type": "stream",
     "text": [
      "200711290LAL.html\n"
     ]
    },
    {
     "name": "stderr",
     "output_type": "stream",
     "text": [
      "Teams finished: 100%|██████████| 2/2 [00:00<00:00, 12.12it/s]\n",
      "files cleaned:   3%|▎         | 1043/32882 [12:02<4:55:30,  1.80it/s]"
     ]
    },
    {
     "name": "stdout",
     "output_type": "stream",
     "text": [
      "199711160SEA.html\n"
     ]
    },
    {
     "name": "stderr",
     "output_type": "stream",
     "text": [
      "Teams finished: 100%|██████████| 2/2 [00:00<00:00, 12.56it/s]\n",
      "files cleaned:   3%|▎         | 1044/32882 [12:02<5:07:04,  1.73it/s]"
     ]
    },
    {
     "name": "stdout",
     "output_type": "stream",
     "text": [
      "200803050HOU.html\n"
     ]
    },
    {
     "name": "stderr",
     "output_type": "stream",
     "text": [
      "Teams finished: 100%|██████████| 2/2 [00:00<00:00,  3.56it/s]\n",
      "files cleaned:   3%|▎         | 1045/32882 [12:03<5:59:33,  1.48it/s]"
     ]
    },
    {
     "name": "stdout",
     "output_type": "stream",
     "text": [
      "201202280MIL.html\n"
     ]
    },
    {
     "name": "stderr",
     "output_type": "stream",
     "text": [
      "Teams finished: 100%|██████████| 2/2 [00:00<00:00,  8.97it/s]\n",
      "files cleaned:   3%|▎         | 1046/32882 [12:04<5:36:31,  1.58it/s]"
     ]
    },
    {
     "name": "stdout",
     "output_type": "stream",
     "text": [
      "201204190NOH.html\n"
     ]
    },
    {
     "name": "stderr",
     "output_type": "stream",
     "text": [
      "Teams finished: 100%|██████████| 2/2 [00:00<00:00, 12.09it/s]\n",
      "files cleaned:   3%|▎         | 1047/32882 [12:05<5:43:26,  1.54it/s]"
     ]
    },
    {
     "name": "stdout",
     "output_type": "stream",
     "text": [
      "201701160MIL.html\n"
     ]
    },
    {
     "name": "stderr",
     "output_type": "stream",
     "text": [
      "Teams finished: 100%|██████████| 2/2 [00:00<00:00, 11.29it/s]\n",
      "files cleaned:   3%|▎         | 1048/32882 [12:05<5:25:15,  1.63it/s]"
     ]
    },
    {
     "name": "stdout",
     "output_type": "stream",
     "text": [
      "200501120GSW.html\n"
     ]
    },
    {
     "name": "stderr",
     "output_type": "stream",
     "text": [
      "Teams finished: 100%|██████████| 2/2 [00:00<00:00, 12.68it/s]\n",
      "files cleaned:   3%|▎         | 1049/32882 [12:06<5:01:11,  1.76it/s]"
     ]
    },
    {
     "name": "stdout",
     "output_type": "stream",
     "text": [
      "199702230HOU.html\n"
     ]
    },
    {
     "name": "stderr",
     "output_type": "stream",
     "text": [
      "Teams finished: 100%|██████████| 2/2 [00:00<00:00, 12.64it/s]\n",
      "files cleaned:   3%|▎         | 1050/32882 [12:06<5:04:53,  1.74it/s]"
     ]
    },
    {
     "name": "stdout",
     "output_type": "stream",
     "text": [
      "201701140WAS.html\n"
     ]
    },
    {
     "name": "stderr",
     "output_type": "stream",
     "text": [
      "Teams finished: 100%|██████████| 2/2 [00:00<00:00,  9.50it/s]\n",
      "files cleaned:   3%|▎         | 1051/32882 [12:07<4:55:03,  1.80it/s]"
     ]
    },
    {
     "name": "stdout",
     "output_type": "stream",
     "text": [
      "202301130DET.html\n"
     ]
    },
    {
     "name": "stderr",
     "output_type": "stream",
     "text": [
      "Teams finished: 100%|██████████| 2/2 [00:00<00:00, 11.24it/s]\n",
      "files cleaned:   3%|▎         | 1052/32882 [12:07<4:42:35,  1.88it/s]"
     ]
    },
    {
     "name": "stdout",
     "output_type": "stream",
     "text": [
      "199701100PHO.html\n"
     ]
    },
    {
     "name": "stderr",
     "output_type": "stream",
     "text": [
      "Teams finished: 100%|██████████| 2/2 [00:00<00:00,  2.78it/s]\n",
      "files cleaned:   3%|▎         | 1053/32882 [12:08<6:25:11,  1.38it/s]"
     ]
    },
    {
     "name": "stdout",
     "output_type": "stream",
     "text": [
      "201012110DAL.html\n"
     ]
    },
    {
     "name": "stderr",
     "output_type": "stream",
     "text": [
      "Teams finished: 100%|██████████| 2/2 [00:00<00:00, 10.53it/s]\n",
      "files cleaned:   3%|▎         | 1054/32882 [12:09<5:52:58,  1.50it/s]"
     ]
    },
    {
     "name": "stdout",
     "output_type": "stream",
     "text": [
      "201312180PHO.html\n"
     ]
    },
    {
     "name": "stderr",
     "output_type": "stream",
     "text": [
      "Teams finished: 100%|██████████| 2/2 [00:00<00:00,  8.72it/s]\n",
      "files cleaned:   3%|▎         | 1055/32882 [12:09<5:39:13,  1.56it/s]"
     ]
    },
    {
     "name": "stdout",
     "output_type": "stream",
     "text": [
      "199612200CLE.html\n"
     ]
    },
    {
     "name": "stderr",
     "output_type": "stream",
     "text": [
      "Teams finished: 100%|██████████| 2/2 [00:00<00:00, 11.47it/s]\n",
      "files cleaned:   3%|▎         | 1056/32882 [12:10<5:37:02,  1.57it/s]"
     ]
    },
    {
     "name": "stdout",
     "output_type": "stream",
     "text": [
      "200502010DEN.html\n"
     ]
    },
    {
     "name": "stderr",
     "output_type": "stream",
     "text": [
      "Teams finished: 100%|██████████| 2/2 [00:00<00:00,  9.42it/s]\n",
      "files cleaned:   3%|▎         | 1057/32882 [12:11<5:21:25,  1.65it/s]"
     ]
    },
    {
     "name": "stdout",
     "output_type": "stream",
     "text": [
      "201202060NYK.html\n"
     ]
    },
    {
     "name": "stderr",
     "output_type": "stream",
     "text": [
      "Teams finished: 100%|██████████| 2/2 [00:00<00:00,  9.98it/s]\n",
      "files cleaned:   3%|▎         | 1058/32882 [12:11<5:03:12,  1.75it/s]"
     ]
    },
    {
     "name": "stdout",
     "output_type": "stream",
     "text": [
      "201011020MIA.html\n"
     ]
    },
    {
     "name": "stderr",
     "output_type": "stream",
     "text": [
      "Teams finished: 100%|██████████| 2/2 [00:00<00:00,  9.14it/s]\n",
      "files cleaned:   3%|▎         | 1059/32882 [12:12<5:20:42,  1.65it/s]"
     ]
    },
    {
     "name": "stdout",
     "output_type": "stream",
     "text": [
      "200702270MIN.html\n"
     ]
    },
    {
     "name": "stderr",
     "output_type": "stream",
     "text": [
      "Teams finished: 100%|██████████| 2/2 [00:00<00:00,  9.45it/s]\n",
      "files cleaned:   3%|▎         | 1060/32882 [12:12<5:02:04,  1.76it/s]"
     ]
    },
    {
     "name": "stdout",
     "output_type": "stream",
     "text": [
      "200501280MIL.html\n"
     ]
    },
    {
     "name": "stderr",
     "output_type": "stream",
     "text": [
      "Teams finished: 100%|██████████| 2/2 [00:00<00:00,  3.31it/s]\n",
      "files cleaned:   3%|▎         | 1061/32882 [12:13<6:04:15,  1.46it/s]"
     ]
    },
    {
     "name": "stdout",
     "output_type": "stream",
     "text": [
      "200311300SAC.html\n"
     ]
    },
    {
     "name": "stderr",
     "output_type": "stream",
     "text": [
      "Teams finished: 100%|██████████| 2/2 [00:00<00:00,  7.10it/s]\n",
      "files cleaned:   3%|▎         | 1062/32882 [12:14<5:48:34,  1.52it/s]"
     ]
    },
    {
     "name": "stdout",
     "output_type": "stream",
     "text": [
      "201712180IND.html\n"
     ]
    },
    {
     "name": "stderr",
     "output_type": "stream",
     "text": [
      "Teams finished: 100%|██████████| 2/2 [00:00<00:00, 11.80it/s]\n",
      "files cleaned:   3%|▎         | 1063/32882 [12:14<5:48:43,  1.52it/s]"
     ]
    },
    {
     "name": "stdout",
     "output_type": "stream",
     "text": [
      "201202120GSW.html\n"
     ]
    },
    {
     "name": "stderr",
     "output_type": "stream",
     "text": [
      "Teams finished: 100%|██████████| 2/2 [00:00<00:00, 11.09it/s]\n",
      "files cleaned:   3%|▎         | 1064/32882 [12:15<5:21:34,  1.65it/s]"
     ]
    },
    {
     "name": "stdout",
     "output_type": "stream",
     "text": [
      "202112080HOU.html\n"
     ]
    },
    {
     "name": "stderr",
     "output_type": "stream",
     "text": [
      "Teams finished: 100%|██████████| 2/2 [00:00<00:00, 10.65it/s]\n",
      "files cleaned:   3%|▎         | 1065/32882 [12:15<5:03:08,  1.75it/s]"
     ]
    },
    {
     "name": "stdout",
     "output_type": "stream",
     "text": [
      "200502280CLE.html\n"
     ]
    },
    {
     "name": "stderr",
     "output_type": "stream",
     "text": [
      "Teams finished: 100%|██████████| 2/2 [00:00<00:00, 11.31it/s]\n",
      "files cleaned:   3%|▎         | 1066/32882 [12:16<5:23:38,  1.64it/s]"
     ]
    },
    {
     "name": "stdout",
     "output_type": "stream",
     "text": [
      "199705090MIA.html\n"
     ]
    },
    {
     "name": "stderr",
     "output_type": "stream",
     "text": [
      "Teams finished: 100%|██████████| 2/2 [00:00<00:00,  8.54it/s]\n",
      "files cleaned:   3%|▎         | 1067/32882 [12:17<5:51:42,  1.51it/s]"
     ]
    },
    {
     "name": "stdout",
     "output_type": "stream",
     "text": [
      "199803010MIN.html\n"
     ]
    },
    {
     "name": "stderr",
     "output_type": "stream",
     "text": [
      "files cleaned:   3%|▎         | 1067/32882 [12:18<6:06:45,  1.45it/s]\n"
     ]
    },
    {
     "ename": "KeyboardInterrupt",
     "evalue": "",
     "output_type": "error",
     "traceback": [
      "\u001b[0;31m---------------------------------------------------------------------------\u001b[0m",
      "\u001b[0;31mKeyboardInterrupt\u001b[0m                         Traceback (most recent call last)",
      "Cell \u001b[0;32mIn[13], line 12\u001b[0m\n\u001b[1;32m      5\u001b[0m new_file \u001b[39m=\u001b[39m \u001b[39mf\u001b[39m\u001b[39m'\u001b[39m\u001b[39mcleaned_data_\u001b[39m\u001b[39m{\u001b[39;00mfilename[:\u001b[39m-\u001b[39m\u001b[39m5\u001b[39m]\u001b[39m}\u001b[39;00m\u001b[39m.csv\u001b[39m\u001b[39m'\u001b[39m\n\u001b[1;32m      7\u001b[0m \u001b[39m\u001b[39m\u001b[39m'''\u001b[39;00m\n\u001b[1;32m      8\u001b[0m \u001b[39mif os.path.isfile(f'{curr_dir}/Cleaned_data/{new_file}'):\u001b[39;00m\n\u001b[1;32m      9\u001b[0m \u001b[39m    os.remove(f'{curr_dir}/Cleaned_data/{new_file}')\u001b[39;00m\n\u001b[1;32m     10\u001b[0m \u001b[39m'''\u001b[39;00m\n\u001b[0;32m---> 12\u001b[0m soup \u001b[39m=\u001b[39m BeautifulSoup(\u001b[39mopen\u001b[39;49m(\u001b[39mf\u001b[39;49m\u001b[39m'\u001b[39;49m\u001b[39m{\u001b[39;49;00mcurr_dir\u001b[39m}\u001b[39;49;00m\u001b[39m/\u001b[39;49m\u001b[39m{\u001b[39;49;00mdirectory\u001b[39m}\u001b[39;49;00m\u001b[39m/\u001b[39;49m\u001b[39m{\u001b[39;49;00mfilename\u001b[39m}\u001b[39;49;00m\u001b[39m'\u001b[39;49m), \u001b[39m'\u001b[39;49m\u001b[39mhtml.parser\u001b[39;49m\u001b[39m'\u001b[39;49m)\n\u001b[1;32m     13\u001b[0m \u001b[39m#creates a list of stats per quarter for each team\u001b[39;00m\n\u001b[1;32m     14\u001b[0m tables \u001b[39m=\u001b[39m soup\u001b[39m.\u001b[39mfind_all(\u001b[39m'\u001b[39m\u001b[39mtable\u001b[39m\u001b[39m'\u001b[39m, class_\u001b[39m=\u001b[39m\u001b[39m'\u001b[39m\u001b[39msortable stats_table\u001b[39m\u001b[39m'\u001b[39m)\n",
      "File \u001b[0;32m/Library/Frameworks/Python.framework/Versions/3.10/lib/python3.10/site-packages/bs4/__init__.py:333\u001b[0m, in \u001b[0;36mBeautifulSoup.__init__\u001b[0;34m(self, markup, features, builder, parse_only, from_encoding, exclude_encodings, element_classes, **kwargs)\u001b[0m\n\u001b[1;32m    331\u001b[0m \u001b[39mself\u001b[39m\u001b[39m.\u001b[39mbuilder\u001b[39m.\u001b[39minitialize_soup(\u001b[39mself\u001b[39m)\n\u001b[1;32m    332\u001b[0m \u001b[39mtry\u001b[39;00m:\n\u001b[0;32m--> 333\u001b[0m     \u001b[39mself\u001b[39;49m\u001b[39m.\u001b[39;49m_feed()\n\u001b[1;32m    334\u001b[0m     success \u001b[39m=\u001b[39m \u001b[39mTrue\u001b[39;00m\n\u001b[1;32m    335\u001b[0m     \u001b[39mbreak\u001b[39;00m\n",
      "File \u001b[0;32m/Library/Frameworks/Python.framework/Versions/3.10/lib/python3.10/site-packages/bs4/__init__.py:452\u001b[0m, in \u001b[0;36mBeautifulSoup._feed\u001b[0;34m(self)\u001b[0m\n\u001b[1;32m    449\u001b[0m \u001b[39m# Convert the document to Unicode.\u001b[39;00m\n\u001b[1;32m    450\u001b[0m \u001b[39mself\u001b[39m\u001b[39m.\u001b[39mbuilder\u001b[39m.\u001b[39mreset()\n\u001b[0;32m--> 452\u001b[0m \u001b[39mself\u001b[39;49m\u001b[39m.\u001b[39;49mbuilder\u001b[39m.\u001b[39;49mfeed(\u001b[39mself\u001b[39;49m\u001b[39m.\u001b[39;49mmarkup)\n\u001b[1;32m    453\u001b[0m \u001b[39m# Close out any unfinished strings and close all the open tags.\u001b[39;00m\n\u001b[1;32m    454\u001b[0m \u001b[39mself\u001b[39m\u001b[39m.\u001b[39mendData()\n",
      "File \u001b[0;32m/Library/Frameworks/Python.framework/Versions/3.10/lib/python3.10/site-packages/bs4/builder/_htmlparser.py:362\u001b[0m, in \u001b[0;36mHTMLParserTreeBuilder.feed\u001b[0;34m(self, markup)\u001b[0m\n\u001b[1;32m    360\u001b[0m parser \u001b[39m=\u001b[39m BeautifulSoupHTMLParser(\u001b[39m*\u001b[39margs, \u001b[39m*\u001b[39m\u001b[39m*\u001b[39mkwargs)\n\u001b[1;32m    361\u001b[0m parser\u001b[39m.\u001b[39msoup \u001b[39m=\u001b[39m \u001b[39mself\u001b[39m\u001b[39m.\u001b[39msoup\n\u001b[0;32m--> 362\u001b[0m parser\u001b[39m.\u001b[39;49mfeed(markup)\n\u001b[1;32m    363\u001b[0m parser\u001b[39m.\u001b[39mclose()\n\u001b[1;32m    364\u001b[0m parser\u001b[39m.\u001b[39malready_closed_empty_element \u001b[39m=\u001b[39m []\n",
      "File \u001b[0;32m/Library/Frameworks/Python.framework/Versions/3.10/lib/python3.10/html/parser.py:110\u001b[0m, in \u001b[0;36mHTMLParser.feed\u001b[0;34m(self, data)\u001b[0m\n\u001b[1;32m    104\u001b[0m \u001b[39m\u001b[39m\u001b[39mr\u001b[39m\u001b[39m\"\"\"Feed data to the parser.\u001b[39;00m\n\u001b[1;32m    105\u001b[0m \n\u001b[1;32m    106\u001b[0m \u001b[39mCall this as often as you want, with as little or as much text\u001b[39;00m\n\u001b[1;32m    107\u001b[0m \u001b[39mas you want (may include '\\n').\u001b[39;00m\n\u001b[1;32m    108\u001b[0m \u001b[39m\"\"\"\u001b[39;00m\n\u001b[1;32m    109\u001b[0m \u001b[39mself\u001b[39m\u001b[39m.\u001b[39mrawdata \u001b[39m=\u001b[39m \u001b[39mself\u001b[39m\u001b[39m.\u001b[39mrawdata \u001b[39m+\u001b[39m data\n\u001b[0;32m--> 110\u001b[0m \u001b[39mself\u001b[39;49m\u001b[39m.\u001b[39;49mgoahead(\u001b[39m0\u001b[39;49m)\n",
      "File \u001b[0;32m/Library/Frameworks/Python.framework/Versions/3.10/lib/python3.10/html/parser.py:172\u001b[0m, in \u001b[0;36mHTMLParser.goahead\u001b[0;34m(self, end)\u001b[0m\n\u001b[1;32m    170\u001b[0m     k \u001b[39m=\u001b[39m \u001b[39mself\u001b[39m\u001b[39m.\u001b[39mparse_starttag(i)\n\u001b[1;32m    171\u001b[0m \u001b[39melif\u001b[39;00m startswith(\u001b[39m\"\u001b[39m\u001b[39m</\u001b[39m\u001b[39m\"\u001b[39m, i):\n\u001b[0;32m--> 172\u001b[0m     k \u001b[39m=\u001b[39m \u001b[39mself\u001b[39;49m\u001b[39m.\u001b[39;49mparse_endtag(i)\n\u001b[1;32m    173\u001b[0m \u001b[39melif\u001b[39;00m startswith(\u001b[39m\"\u001b[39m\u001b[39m<!--\u001b[39m\u001b[39m\"\u001b[39m, i):\n\u001b[1;32m    174\u001b[0m     k \u001b[39m=\u001b[39m \u001b[39mself\u001b[39m\u001b[39m.\u001b[39mparse_comment(i)\n",
      "File \u001b[0;32m/Library/Frameworks/Python.framework/Versions/3.10/lib/python3.10/html/parser.py:420\u001b[0m, in \u001b[0;36mHTMLParser.parse_endtag\u001b[0;34m(self, i)\u001b[0m\n\u001b[1;32m    417\u001b[0m         \u001b[39mself\u001b[39m\u001b[39m.\u001b[39mhandle_data(rawdata[i:gtpos])\n\u001b[1;32m    418\u001b[0m         \u001b[39mreturn\u001b[39;00m gtpos\n\u001b[0;32m--> 420\u001b[0m \u001b[39mself\u001b[39;49m\u001b[39m.\u001b[39;49mhandle_endtag(elem)\n\u001b[1;32m    421\u001b[0m \u001b[39mself\u001b[39m\u001b[39m.\u001b[39mclear_cdata_mode()\n\u001b[1;32m    422\u001b[0m \u001b[39mreturn\u001b[39;00m gtpos\n",
      "File \u001b[0;32m/Library/Frameworks/Python.framework/Versions/3.10/lib/python3.10/site-packages/bs4/builder/_htmlparser.py:159\u001b[0m, in \u001b[0;36mBeautifulSoupHTMLParser.handle_endtag\u001b[0;34m(self, name, check_already_closed)\u001b[0m\n\u001b[1;32m    157\u001b[0m     \u001b[39mself\u001b[39m\u001b[39m.\u001b[39malready_closed_empty_element\u001b[39m.\u001b[39mremove(name)\n\u001b[1;32m    158\u001b[0m \u001b[39melse\u001b[39;00m:\n\u001b[0;32m--> 159\u001b[0m     \u001b[39mself\u001b[39;49m\u001b[39m.\u001b[39;49msoup\u001b[39m.\u001b[39;49mhandle_endtag(name)\n",
      "File \u001b[0;32m/Library/Frameworks/Python.framework/Versions/3.10/lib/python3.10/site-packages/bs4/__init__.py:744\u001b[0m, in \u001b[0;36mBeautifulSoup.handle_endtag\u001b[0;34m(self, name, nsprefix)\u001b[0m\n\u001b[1;32m    742\u001b[0m \u001b[39m#print(\"End tag: \" + name)\u001b[39;00m\n\u001b[1;32m    743\u001b[0m \u001b[39mself\u001b[39m\u001b[39m.\u001b[39mendData()\n\u001b[0;32m--> 744\u001b[0m \u001b[39mself\u001b[39;49m\u001b[39m.\u001b[39;49m_popToTag(name, nsprefix)\n",
      "File \u001b[0;32m/Library/Frameworks/Python.framework/Versions/3.10/lib/python3.10/site-packages/bs4/__init__.py:683\u001b[0m, in \u001b[0;36mBeautifulSoup._popToTag\u001b[0;34m(self, name, nsprefix, inclusivePop)\u001b[0m\n\u001b[1;32m    680\u001b[0m most_recently_popped \u001b[39m=\u001b[39m \u001b[39mNone\u001b[39;00m\n\u001b[1;32m    682\u001b[0m stack_size \u001b[39m=\u001b[39m \u001b[39mlen\u001b[39m(\u001b[39mself\u001b[39m\u001b[39m.\u001b[39mtagStack)\n\u001b[0;32m--> 683\u001b[0m \u001b[39mfor\u001b[39;00m i \u001b[39min\u001b[39;00m \u001b[39mrange\u001b[39;49m(stack_size \u001b[39m-\u001b[39;49m \u001b[39m1\u001b[39;49m, \u001b[39m0\u001b[39;49m, \u001b[39m-\u001b[39;49m\u001b[39m1\u001b[39;49m):\n\u001b[1;32m    684\u001b[0m     \u001b[39mif\u001b[39;00m \u001b[39mnot\u001b[39;00m \u001b[39mself\u001b[39m\u001b[39m.\u001b[39mopen_tag_counter\u001b[39m.\u001b[39mget(name):\n\u001b[1;32m    685\u001b[0m         \u001b[39mbreak\u001b[39;00m\n",
      "\u001b[0;31mKeyboardInterrupt\u001b[0m: "
     ]
    }
   ],
   "source": [
    "for filename in tqdm(os.listdir(directory), desc='files cleaned'):\n",
    "    print(filename)\n",
    "    if f'cleaned_data_{filename}.csv' in os.listdir(f'{curr_dir}/Cleaned_data'):\n",
    "        continue\n",
    "    new_file = f'cleaned_data_{filename[:-5]}.csv'\n",
    "    \n",
    "    '''\n",
    "    if os.path.isfile(f'{curr_dir}/Cleaned_data/{new_file}'):\n",
    "        os.remove(f'{curr_dir}/Cleaned_data/{new_file}')\n",
    "    '''\n",
    "\n",
    "    soup = BeautifulSoup(open(f'{curr_dir}/{directory}/{filename}'), 'html.parser')\n",
    "    #creates a list of stats per quarter for each team\n",
    "    tables = soup.find_all('table', class_='sortable stats_table')\n",
    "\n",
    "    found_regex = [] # contains the id of q1 tables to get the amount of players\n",
    "    regex = r'box-[A-Z]{3}-q1-basic' #expression used to search for specific tables\n",
    "\n",
    "    for table in tables: #grabs q1 table for each team to identify number of players\n",
    "        if re.search(regex, table['id']) and table['id'] not in found_regex:\n",
    "            found_regex.append(table['id'])\n",
    "\n",
    "\n",
    "\n",
    "    #will contain all data for every player\n",
    "    player_data = []\n",
    "    temp = soup.find_all('table', id= regex)\n",
    "\n",
    "    #teamo_num == 0 is away team, team_num == 1 is home team\n",
    "    for team_num in trange(2, desc='Teams finished'):\n",
    "        #grab number of players currently on the team\n",
    "        #subtract 4 because there are two rows of headers for each table, 2 rows * 2 teams = 4 extra rows\n",
    "        amount_of_players = len(soup.find('table', attrs={'id': found_regex[team_num]}).find_all('tr')) - 4\n",
    "        \n",
    "        for player_number in range(amount_of_players): #loops through every player on the team\n",
    "            for index in range(6): #gets all stats for every term for that player\n",
    "                quarter_stats = tables[index + (team_num*(len(tables)//2))].find('tbody').find_all('tr', attrs={'class': None})[player_number]\n",
    "                #print(quarter_stats)\n",
    "                data_row = f'{is_home_team(team_num)}, {index},' + ','.join(e.text for e in quarter_stats.children)\n",
    "                player_data.append(data_row)\n",
    "\n",
    "    \n",
    "    with open(f'{curr_dir}/Cleaned_data/{new_file}', 'w') as f_object: #Write headers to every file needed\n",
    "        writer_object = writer(f_object)\n",
    "        writer_object.writerow(headers)\n",
    "        f_object.close()\n",
    "\n",
    "    \n",
    "    quarter_index = 0\n",
    "\n",
    "    for i, n in enumerate(player_data):  #separates stats for each player from every term\n",
    "        '''\n",
    "        if (quarter_index) % ((len(tables) // 2)) == 0:\n",
    "            print('end of player stats')\n",
    "        quarter_index += 1\n",
    "        '''\n",
    "        results = []\n",
    "        row = n.split(',')\n",
    "        \n",
    "        for i, func in enumerate(converters): #converts stats to correct type of data\n",
    "            if len(row) > 4:\n",
    "                converted_val = func(row[i])\n",
    "                results.append(converted_val)\n",
    "            else:\n",
    "                results.append(is_home_team(row[0]))\n",
    "                results.append(get_term(row[1]))\n",
    "                results.append(row[2])\n",
    "                results.append(None)\n",
    "                break\n",
    "\n",
    "        #print(results)\n",
    "        with open(f'{curr_dir}/Cleaned_data/{new_file}', 'a') as f_object: #writes player data to new file\n",
    "            writer_object = writer(f_object)\n",
    "            writer_object.writerow(results)\n",
    "            f_object.close()"
   ]
  }
 ],
 "metadata": {
  "kernelspec": {
   "display_name": "base",
   "language": "python",
   "name": "python3"
  },
  "language_info": {
   "codemirror_mode": {
    "name": "ipython",
    "version": 3
   },
   "file_extension": ".py",
   "mimetype": "text/x-python",
   "name": "python",
   "nbconvert_exporter": "python",
   "pygments_lexer": "ipython3",
   "version": "3.10.11"
  },
  "orig_nbformat": 4
 },
 "nbformat": 4,
 "nbformat_minor": 2
}
