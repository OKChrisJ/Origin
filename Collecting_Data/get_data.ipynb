{
 "cells": [
  {
   "cell_type": "code",
   "execution_count": 1,
   "metadata": {},
   "outputs": [],
   "source": [
    "import os\n",
    "from bs4 import BeautifulSoup\n",
    "from playwright.async_api import async_playwright, TimeoutError as PlaywrightTimeout\n",
    "import time"
   ]
  },
  {
   "attachments": {},
   "cell_type": "markdown",
   "metadata": {},
   "source": [
    "run this\n",
    "%pip install playwright\n",
    "once thats done run this\n",
    "!playwright"
   ]
  },
  {
   "cell_type": "code",
   "execution_count": 2,
   "metadata": {},
   "outputs": [],
   "source": [
    "SEASONS = list(range(1997, 2023))"
   ]
  },
  {
   "cell_type": "code",
   "execution_count": 3,
   "metadata": {},
   "outputs": [],
   "source": [
    "DATA_DIR = \"DATA\"\n",
    "STANDINGS_DIR = os.path.join(DATA_DIR, \"standings\")\n",
    "#PLAYOFFS_DIR = os.path.join(DATA_DIR, \"playoffs\")\n",
    "SCORES_DIR = os.path.join(DATA_DIR, \"scores\")"
   ]
  },
  {
   "cell_type": "code",
   "execution_count": 4,
   "metadata": {},
   "outputs": [],
   "source": [
    "#get html function\n",
    "async def get_html(url, selector, sleep=5, retries=3):\n",
    "    html = None\n",
    "    for i in range(1, retries+1):\n",
    "        time.sleep(sleep * i)\n",
    "\n",
    "        try:\n",
    "            async with async_playwright() as p:\n",
    "                browser = await p.firefox.launch()\n",
    "                page = await browser.new_page()\n",
    "                await page.goto(url)\n",
    "                print(await page.title())\n",
    "                html = await page.inner_html(selector)\n",
    "        except PlaywrightTimeout:\n",
    "            print(f\"Timeout on {url}\")\n",
    "            continue\n",
    "        else:\n",
    "            break\n",
    "    return html"
   ]
  },
  {
   "cell_type": "code",
   "execution_count": 5,
   "metadata": {},
   "outputs": [],
   "source": [
    "async def scrape_season(season):\n",
    "    url = f\"https://www.basketball-reference.com/leagues/NBA_{season}_games.html\"\n",
    "    html = await get_html(url, \"#content .filter\")\n",
    "\n",
    "    soup = BeautifulSoup(html)\n",
    "    links = soup.find_all(\"a\")\n",
    "    href = [l[\"href\"] for l in links]\n",
    "    standings_pages = [f\"https://basketball-reference.com{l}\" for l in href]\n",
    "    \n",
    "    #save them to the \n",
    "    #takes the last part of the url and saves it as the file name\n",
    "    for url in standings_pages:\n",
    "        save_path = os.path.join(STANDINGS_DIR, url.split(\"/\")[-1])\n",
    "        if os.path.exists(save_path):\n",
    "            continue\n",
    "\n",
    "        html = await get_html(url, \"#all_schedule\")\n",
    "        with open(save_path, \"w+\") as f:\n",
    "            f.write(html)\n"
   ]
  },
  {
   "cell_type": "code",
   "execution_count": 6,
   "metadata": {},
   "outputs": [
    {
     "name": "stdout",
     "output_type": "stream",
     "text": [
      "1996-97 NBA Schedule | Basketball-Reference.com\n",
      "1996-97 NBA Schedule | Basketball-Reference.com\n",
      "1996-97 NBA Schedule | Basketball-Reference.com\n",
      "1996-97 NBA Schedule | Basketball-Reference.com\n",
      "1996-97 NBA Schedule | Basketball-Reference.com\n",
      "1996-97 NBA Schedule | Basketball-Reference.com\n",
      "1996-97 NBA Schedule | Basketball-Reference.com\n",
      "1996-97 NBA Schedule | Basketball-Reference.com\n",
      "1997-98 NBA Schedule | Basketball-Reference.com\n",
      "1997-98 NBA Schedule | Basketball-Reference.com\n",
      "1997-98 NBA Schedule | Basketball-Reference.com\n",
      "1997-98 NBA Schedule | Basketball-Reference.com\n",
      "1997-98 NBA Schedule | Basketball-Reference.com\n",
      "1997-98 NBA Schedule | Basketball-Reference.com\n",
      "1997-98 NBA Schedule | Basketball-Reference.com\n",
      "1997-98 NBA Schedule | Basketball-Reference.com\n",
      "1997-98 NBA Schedule | Basketball-Reference.com\n",
      "1997-98 NBA Schedule | Basketball-Reference.com\n",
      "1998-99 NBA Schedule | Basketball-Reference.com\n",
      "1998-99 NBA Schedule | Basketball-Reference.com\n",
      "1998-99 NBA Schedule | Basketball-Reference.com\n",
      "1998-99 NBA Schedule | Basketball-Reference.com\n",
      "1998-99 NBA Schedule | Basketball-Reference.com\n",
      "1998-99 NBA Schedule | Basketball-Reference.com\n",
      "1999-00 NBA Schedule | Basketball-Reference.com\n",
      "1999-00 NBA Schedule | Basketball-Reference.com\n",
      "1999-00 NBA Schedule | Basketball-Reference.com\n",
      "1999-00 NBA Schedule | Basketball-Reference.com\n",
      "1999-00 NBA Schedule | Basketball-Reference.com\n",
      "1999-00 NBA Schedule | Basketball-Reference.com\n",
      "1999-00 NBA Schedule | Basketball-Reference.com\n",
      "1999-00 NBA Schedule | Basketball-Reference.com\n",
      "1999-00 NBA Schedule | Basketball-Reference.com\n",
      "2000-01 NBA Schedule | Basketball-Reference.com\n",
      "2000-01 NBA Schedule | Basketball-Reference.com\n",
      "2000-01 NBA Schedule | Basketball-Reference.com\n",
      "2000-01 NBA Schedule | Basketball-Reference.com\n",
      "2000-01 NBA Schedule | Basketball-Reference.com\n",
      "2000-01 NBA Schedule | Basketball-Reference.com\n",
      "2000-01 NBA Schedule | Basketball-Reference.com\n",
      "2000-01 NBA Schedule | Basketball-Reference.com\n",
      "2000-01 NBA Schedule | Basketball-Reference.com\n",
      "2000-01 NBA Schedule | Basketball-Reference.com\n",
      "2001-02 NBA Schedule | Basketball-Reference.com\n",
      "2001-02 NBA Schedule | Basketball-Reference.com\n",
      "2001-02 NBA Schedule | Basketball-Reference.com\n",
      "2001-02 NBA Schedule | Basketball-Reference.com\n",
      "2001-02 NBA Schedule | Basketball-Reference.com\n",
      "2001-02 NBA Schedule | Basketball-Reference.com\n",
      "2001-02 NBA Schedule | Basketball-Reference.com\n",
      "2001-02 NBA Schedule | Basketball-Reference.com\n",
      "2001-02 NBA Schedule | Basketball-Reference.com\n",
      "2001-02 NBA Schedule | Basketball-Reference.com\n",
      "2002-03 NBA Schedule | Basketball-Reference.com\n",
      "2002-03 NBA Schedule | Basketball-Reference.com\n",
      "2002-03 NBA Schedule | Basketball-Reference.com\n",
      "2002-03 NBA Schedule | Basketball-Reference.com\n",
      "2002-03 NBA Schedule | Basketball-Reference.com\n",
      "2002-03 NBA Schedule | Basketball-Reference.com\n",
      "2002-03 NBA Schedule | Basketball-Reference.com\n",
      "2002-03 NBA Schedule | Basketball-Reference.com\n",
      "2002-03 NBA Schedule | Basketball-Reference.com\n",
      "2002-03 NBA Schedule | Basketball-Reference.com\n",
      "2003-04 NBA Schedule | Basketball-Reference.com\n",
      "2003-04 NBA Schedule | Basketball-Reference.com\n",
      "2003-04 NBA Schedule | Basketball-Reference.com\n",
      "2003-04 NBA Schedule | Basketball-Reference.com\n",
      "2003-04 NBA Schedule | Basketball-Reference.com\n",
      "2003-04 NBA Schedule | Basketball-Reference.com\n",
      "2003-04 NBA Schedule | Basketball-Reference.com\n",
      "2003-04 NBA Schedule | Basketball-Reference.com\n",
      "2003-04 NBA Schedule | Basketball-Reference.com\n",
      "2003-04 NBA Schedule | Basketball-Reference.com\n",
      "2004-05 NBA Schedule | Basketball-Reference.com\n",
      "2004-05 NBA Schedule | Basketball-Reference.com\n",
      "2004-05 NBA Schedule | Basketball-Reference.com\n"
     ]
    },
    {
     "ename": "CancelledError",
     "evalue": "",
     "output_type": "error",
     "traceback": [
      "\u001b[0;31m---------------------------------------------------------------------------\u001b[0m",
      "\u001b[0;31mCancelledError\u001b[0m                            Traceback (most recent call last)",
      "Cell \u001b[0;32mIn[6], line 2\u001b[0m\n\u001b[1;32m      1\u001b[0m \u001b[39mfor\u001b[39;00m season \u001b[39min\u001b[39;00m SEASONS:\n\u001b[0;32m----> 2\u001b[0m     \u001b[39mawait\u001b[39;00m scrape_season(season)\n",
      "Cell \u001b[0;32mIn[5], line 17\u001b[0m, in \u001b[0;36mscrape_season\u001b[0;34m(season)\u001b[0m\n\u001b[1;32m     14\u001b[0m \u001b[39mif\u001b[39;00m os\u001b[39m.\u001b[39mpath\u001b[39m.\u001b[39mexists(save_path):\n\u001b[1;32m     15\u001b[0m     \u001b[39mcontinue\u001b[39;00m\n\u001b[0;32m---> 17\u001b[0m html \u001b[39m=\u001b[39m \u001b[39mawait\u001b[39;00m get_html(url, \u001b[39m\"\u001b[39m\u001b[39m#all_schedule\u001b[39m\u001b[39m\"\u001b[39m)\n\u001b[1;32m     18\u001b[0m \u001b[39mwith\u001b[39;00m \u001b[39mopen\u001b[39m(save_path, \u001b[39m\"\u001b[39m\u001b[39mw+\u001b[39m\u001b[39m\"\u001b[39m) \u001b[39mas\u001b[39;00m f:\n\u001b[1;32m     19\u001b[0m     f\u001b[39m.\u001b[39mwrite(html)\n",
      "Cell \u001b[0;32mIn[4], line 8\u001b[0m, in \u001b[0;36mget_html\u001b[0;34m(url, selector, sleep, retries)\u001b[0m\n\u001b[1;32m      5\u001b[0m time\u001b[39m.\u001b[39msleep(sleep \u001b[39m*\u001b[39m i)\n\u001b[1;32m      7\u001b[0m \u001b[39mtry\u001b[39;00m:\n\u001b[0;32m----> 8\u001b[0m     \u001b[39masync\u001b[39;00m \u001b[39mwith\u001b[39;00m async_playwright() \u001b[39mas\u001b[39;00m p:\n\u001b[1;32m      9\u001b[0m         browser \u001b[39m=\u001b[39m \u001b[39mawait\u001b[39;00m p\u001b[39m.\u001b[39mfirefox\u001b[39m.\u001b[39mlaunch()\n\u001b[1;32m     10\u001b[0m         page \u001b[39m=\u001b[39m \u001b[39mawait\u001b[39;00m browser\u001b[39m.\u001b[39mnew_page()\n",
      "File \u001b[0;32m/Library/Frameworks/Python.framework/Versions/3.10/lib/python3.10/site-packages/playwright/async_api/_context_manager.py:54\u001b[0m, in \u001b[0;36mPlaywrightContextManager.__aexit__\u001b[0;34m(self, *args)\u001b[0m\n\u001b[1;32m     53\u001b[0m \u001b[39masync\u001b[39;00m \u001b[39mdef\u001b[39;00m \u001b[39m__aexit__\u001b[39m(\u001b[39mself\u001b[39m, \u001b[39m*\u001b[39margs: Any) \u001b[39m-\u001b[39m\u001b[39m>\u001b[39m \u001b[39mNone\u001b[39;00m:\n\u001b[0;32m---> 54\u001b[0m     \u001b[39mawait\u001b[39;00m \u001b[39mself\u001b[39m\u001b[39m.\u001b[39m_connection\u001b[39m.\u001b[39mstop_async()\n",
      "File \u001b[0;32m/Library/Frameworks/Python.framework/Versions/3.10/lib/python3.10/site-packages/playwright/_impl/_connection.py:277\u001b[0m, in \u001b[0;36mConnection.stop_async\u001b[0;34m(self)\u001b[0m\n\u001b[1;32m    275\u001b[0m \u001b[39masync\u001b[39;00m \u001b[39mdef\u001b[39;00m \u001b[39mstop_async\u001b[39m(\u001b[39mself\u001b[39m) \u001b[39m-\u001b[39m\u001b[39m>\u001b[39m \u001b[39mNone\u001b[39;00m:\n\u001b[1;32m    276\u001b[0m     \u001b[39mself\u001b[39m\u001b[39m.\u001b[39m_transport\u001b[39m.\u001b[39mrequest_stop()\n\u001b[0;32m--> 277\u001b[0m     \u001b[39mawait\u001b[39;00m \u001b[39mself\u001b[39m\u001b[39m.\u001b[39m_transport\u001b[39m.\u001b[39mwait_until_stopped()\n\u001b[1;32m    278\u001b[0m     \u001b[39mself\u001b[39m\u001b[39m.\u001b[39mcleanup()\n",
      "File \u001b[0;32m/Library/Frameworks/Python.framework/Versions/3.10/lib/python3.10/site-packages/playwright/_impl/_transport.py:105\u001b[0m, in \u001b[0;36mPipeTransport.wait_until_stopped\u001b[0;34m(self)\u001b[0m\n\u001b[1;32m    104\u001b[0m \u001b[39masync\u001b[39;00m \u001b[39mdef\u001b[39;00m \u001b[39mwait_until_stopped\u001b[39m(\u001b[39mself\u001b[39m) \u001b[39m-\u001b[39m\u001b[39m>\u001b[39m \u001b[39mNone\u001b[39;00m:\n\u001b[0;32m--> 105\u001b[0m     \u001b[39mawait\u001b[39;00m \u001b[39mself\u001b[39m\u001b[39m.\u001b[39m_stopped_future\n",
      "\u001b[0;31mCancelledError\u001b[0m: "
     ]
    },
    {
     "name": "stderr",
     "output_type": "stream",
     "text": [
      "Task exception was never retrieved\n",
      "future: <Task finished name='Task-230' coro=<Connection.run() done, defined at /Library/Frameworks/Python.framework/Versions/3.10/lib/python3.10/site-packages/playwright/_impl/_connection.py:258> exception=InvalidStateError('invalid state')>\n",
      "Traceback (most recent call last):\n",
      "  File \"/Library/Frameworks/Python.framework/Versions/3.10/lib/python3.10/site-packages/playwright/_impl/_connection.py\", line 267, in run\n",
      "    await self._transport.run()\n",
      "  File \"/Library/Frameworks/Python.framework/Versions/3.10/lib/python3.10/site-packages/playwright/_impl/_transport.py\", line 165, in run\n",
      "    self._stopped_future.set_result(None)\n",
      "asyncio.exceptions.InvalidStateError: invalid state\n"
     ]
    }
   ],
   "source": [
    "for season in SEASONS:\n",
    "    await scrape_season(season)"
   ]
  }
 ],
 "metadata": {
  "kernelspec": {
   "display_name": "base",
   "language": "python",
   "name": "python3"
  },
  "language_info": {
   "codemirror_mode": {
    "name": "ipython",
    "version": 3
   },
   "file_extension": ".py",
   "mimetype": "text/x-python",
   "name": "python",
   "nbconvert_exporter": "python",
   "pygments_lexer": "ipython3",
   "version": "3.10.11"
  },
  "orig_nbformat": 4
 },
 "nbformat": 4,
 "nbformat_minor": 2
}
